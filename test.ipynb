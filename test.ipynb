{
 "cells": [
  {
   "cell_type": "code",
   "execution_count": 2,
   "metadata": {},
   "outputs": [
    {
     "ename": "ValueError",
     "evalue": "invalid literal for int() with base 10: '/'",
     "output_type": "error",
     "traceback": [
      "\u001b[0;31m---------------------------------------------------------------------------\u001b[0m",
      "\u001b[0;31mValueError\u001b[0m                                Traceback (most recent call last)",
      "Cell \u001b[0;32mIn[2], line 5\u001b[0m\n\u001b[1;32m      3\u001b[0m ans \u001b[38;5;241m=\u001b[39m line[\u001b[38;5;241m0\u001b[39m:\u001b[38;5;28mlen\u001b[39m(line)\u001b[38;5;241m-\u001b[39m\u001b[38;5;241m2\u001b[39m]\n\u001b[1;32m      4\u001b[0m \u001b[38;5;66;03m# the length of each set\u001b[39;00m\n\u001b[0;32m----> 5\u001b[0m n \u001b[38;5;241m=\u001b[39m \u001b[38;5;28;43mint\u001b[39;49m\u001b[43m(\u001b[49m\u001b[43mline\u001b[49m\u001b[43m[\u001b[49m\u001b[38;5;241;43m-\u001b[39;49m\u001b[38;5;241;43m2\u001b[39;49m\u001b[43m]\u001b[49m\u001b[43m)\u001b[49m\n\u001b[1;32m      6\u001b[0m \u001b[38;5;66;03m# how many sets of numbers will be reversed\u001b[39;00m\n\u001b[1;32m      7\u001b[0m sets \u001b[38;5;241m=\u001b[39m \u001b[38;5;28mlen\u001b[39m(ans) \u001b[38;5;241m/\u001b[39m \u001b[38;5;241m2\u001b[39m \u001b[38;5;241m/\u001b[39m n\n",
      "\u001b[0;31mValueError\u001b[0m: invalid literal for int() with base 10: '/'"
     ]
    }
   ],
   "source": [
    "line = \"1,2,3,4,5;3/n\"\n",
    "line = list(line)\n",
    "ans = line[0:len(line)-2]\n",
    "# the length of each set\n",
    "n = int(line[-2])\n",
    "# how many sets of numbers will be reversed\n",
    "sets = len(ans) / 2 / n\n",
    "\n",
    "remains = len(ans) / 2 %n * 2\n",
    "sets = len(ans)\n",
    "for i in range(sets):\n",
    "    # keep the start point and comma\n",
    "    tmp = ans[i* n * 2-1: i * n * 2 + 1]"
   ]
  }
 ],
 "metadata": {
  "kernelspec": {
   "display_name": "Python 3",
   "language": "python",
   "name": "python3"
  },
  "language_info": {
   "codemirror_mode": {
    "name": "ipython",
    "version": 3
   },
   "file_extension": ".py",
   "mimetype": "text/x-python",
   "name": "python",
   "nbconvert_exporter": "python",
   "pygments_lexer": "ipython3",
   "version": "3.9.6"
  }
 },
 "nbformat": 4,
 "nbformat_minor": 2
}
